{
  "nbformat": 4,
  "nbformat_minor": 0,
  "metadata": {
    "colab": {
      "provenance": [],
      "authorship_tag": "ABX9TyOXF/f1BAz4TEXR+xISxDf0",
      "include_colab_link": true
    },
    "kernelspec": {
      "name": "python3",
      "display_name": "Python 3"
    },
    "language_info": {
      "name": "python"
    }
  },
  "cells": [
    {
      "cell_type": "markdown",
      "metadata": {
        "id": "view-in-github",
        "colab_type": "text"
      },
      "source": [
        "<a href=\"https://colab.research.google.com/github/Galih1845/python/blob/master/Pemrograman%20bilangan%20prima%20kurang%20dari%20100.ipynb\" target=\"_parent\"><img src=\"https://colab.research.google.com/assets/colab-badge.svg\" alt=\"Open In Colab\"/></a>"
      ]
    },
    {
      "cell_type": "markdown",
      "source": [
        "#Code Python Bilangan Prima kurang dari 100"
      ],
      "metadata": {
        "id": "Me93Ql-1zwl4"
      }
    },
    {
      "cell_type": "code",
      "source": [
        "def prima(n):\n",
        "    if n<= 1:\n",
        "      return False\n",
        "    for i in range (2,int(n**0.5)+1):\n",
        "      if n % i == 0 :\n",
        "        return False\n",
        "    return True\n",
        "prima = [num for num in range(2,100)if prima(num)]\n",
        "print(prima)"
      ],
      "metadata": {
        "colab": {
          "base_uri": "https://localhost:8080/"
        },
        "id": "Col6O4zs0kWm",
        "outputId": "debea2c0-152a-455c-a00f-6426abe6962e"
      },
      "execution_count": 9,
      "outputs": [
        {
          "output_type": "stream",
          "name": "stdout",
          "text": [
            "[2, 3, 5, 7, 11, 13, 17, 19, 23, 29, 31, 37, 41, 43, 47, 53, 59, 61, 67, 71, 73, 79, 83, 89, 97]\n"
          ]
        }
      ]
    }
  ]
}