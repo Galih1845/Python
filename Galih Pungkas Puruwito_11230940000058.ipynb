{
  "cells": [
    {
      "cell_type": "markdown",
      "metadata": {
        "id": "view-in-github",
        "colab_type": "text"
      },
      "source": [
        "<a href=\"https://colab.research.google.com/github/Galih1845/python/blob/master/Galih%20Pungkas%20Puruwito_11230940000058.ipynb\" target=\"_parent\"><img src=\"https://colab.research.google.com/assets/colab-badge.svg\" alt=\"Open In Colab\"/></a>"
      ]
    },
    {
      "cell_type": "markdown",
      "source": [
        "#Tugas\n",
        "Bilangan prima kurang dari 100"
      ],
      "metadata": {
        "id": "6-ceswkMXgN6"
      }
    },
    {
      "cell_type": "code",
      "source": [
        "a = int(input('Masukkan angka prima batas teratas:'))\n",
        "print (\"Bilangan prima kurang dari :\",a)\n",
        "for i in range(2,a):\n",
        "  if i>1 :\n",
        "    for n in range(2,i):\n",
        "      if(i%n)==0:\n",
        "        break\n",
        "    else :\n",
        "      print(i)"
      ],
      "metadata": {
        "id": "vqsJKfq3Xjwq",
        "outputId": "e08d7971-b25b-4867-f69d-3a5ac363c9c7",
        "colab": {
          "base_uri": "https://localhost:8080/"
        }
      },
      "execution_count": 1,
      "outputs": [
        {
          "output_type": "stream",
          "name": "stdout",
          "text": [
            "Masukkan angka prima batas teratas:100\n",
            "Bilangan prima kurang dari : 100\n",
            "2\n",
            "3\n",
            "5\n",
            "7\n",
            "11\n",
            "13\n",
            "17\n",
            "19\n",
            "23\n",
            "29\n",
            "31\n",
            "37\n",
            "41\n",
            "43\n",
            "47\n",
            "53\n",
            "59\n",
            "61\n",
            "67\n",
            "71\n",
            "73\n",
            "79\n",
            "83\n",
            "89\n",
            "97\n"
          ]
        }
      ]
    }
  ],
  "metadata": {
    "colab": {
      "name": "Selamat Datang di Colaboratory",
      "toc_visible": true,
      "provenance": [],
      "include_colab_link": true
    },
    "kernelspec": {
      "display_name": "Python 3",
      "name": "python3"
    }
  },
  "nbformat": 4,
  "nbformat_minor": 0
}