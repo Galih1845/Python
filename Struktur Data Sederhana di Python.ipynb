{
  "cells": [
    {
      "cell_type": "markdown",
      "metadata": {
        "id": "view-in-github",
        "colab_type": "text"
      },
      "source": [
        "<a href=\"https://colab.research.google.com/github/Galih1845/python/blob/master/Struktur%20Data%20Sederhana%20di%20Python.ipynb\" target=\"_parent\"><img src=\"https://colab.research.google.com/assets/colab-badge.svg\" alt=\"Open In Colab\"/></a>"
      ]
    },
    {
      "cell_type": "markdown",
      "source": [
        "#Struktur Data Sederhana di Python\n",
        "\n",
        "\n",
        "\n"
      ],
      "metadata": {
        "id": "B6oOcli3-hDQ"
      }
    },
    {
      "cell_type": "markdown",
      "source": [
        "#List"
      ],
      "metadata": {
        "id": "RAyLTpWw-lZn"
      }
    },
    {
      "cell_type": "markdown",
      "source": [
        "###Membuat List"
      ],
      "metadata": {
        "id": "NoWgcjO9-pZ4"
      }
    },
    {
      "cell_type": "code",
      "source": [
        "x= []\n",
        "type(x)"
      ],
      "metadata": {
        "id": "xg9q7wAl-sp6",
        "outputId": "1852c243-862a-4cba-c225-00ae47f7a86d",
        "colab": {
          "base_uri": "https://localhost:8080/"
        }
      },
      "execution_count": 1,
      "outputs": [
        {
          "output_type": "execute_result",
          "data": {
            "text/plain": [
              "list"
            ]
          },
          "metadata": {},
          "execution_count": 1
        }
      ]
    },
    {
      "cell_type": "code",
      "source": [
        "x=list()\n",
        "type(x)"
      ],
      "metadata": {
        "id": "g7LZi73J-vJY",
        "outputId": "28b31ebb-69eb-4f01-b954-d864ab573100",
        "colab": {
          "base_uri": "https://localhost:8080/"
        }
      },
      "execution_count": 2,
      "outputs": [
        {
          "output_type": "execute_result",
          "data": {
            "text/plain": [
              "list"
            ]
          },
          "metadata": {},
          "execution_count": 2
        }
      ]
    },
    {
      "cell_type": "code",
      "source": [
        "#Inisialisasi List\n",
        "x=[1,2,3]\n",
        "print(x)\n",
        "\n",
        "y=[[1,2,3],[1,2,3]]\n",
        "print(y)"
      ],
      "metadata": {
        "id": "FDzbHaXU-w3w",
        "outputId": "ebd7b56d-d2cb-4c07-8b4c-11604a517208",
        "colab": {
          "base_uri": "https://localhost:8080/"
        }
      },
      "execution_count": 3,
      "outputs": [
        {
          "output_type": "stream",
          "name": "stdout",
          "text": [
            "[1, 2, 3]\n",
            "[[1, 2, 3], [1, 2, 3]]\n"
          ]
        }
      ]
    },
    {
      "cell_type": "code",
      "source": [
        "type(x),type(y)"
      ],
      "metadata": {
        "id": "kCMO1jj-_E3f",
        "outputId": "18b69b0c-6f66-4125-aca2-e1ac8ece224a",
        "colab": {
          "base_uri": "https://localhost:8080/"
        }
      },
      "execution_count": 6,
      "outputs": [
        {
          "output_type": "execute_result",
          "data": {
            "text/plain": [
              "(list, list)"
            ]
          },
          "metadata": {},
          "execution_count": 6
        }
      ]
    },
    {
      "cell_type": "code",
      "source": [
        "# Mengetahui Jumlah/Panjang elemen di List\n",
        "len(x)\n"
      ],
      "metadata": {
        "id": "mAEqE2gq-ygp",
        "outputId": "d0c46708-4371-4c68-c90a-5f10065c175d",
        "colab": {
          "base_uri": "https://localhost:8080/"
        }
      },
      "execution_count": 8,
      "outputs": [
        {
          "output_type": "execute_result",
          "data": {
            "text/plain": [
              "3"
            ]
          },
          "metadata": {},
          "execution_count": 8
        }
      ]
    },
    {
      "cell_type": "code",
      "source": [
        "# Mengetahui Jumlah/Panjang elemen di List\n",
        "len(y)"
      ],
      "metadata": {
        "id": "hHtXR-iH-3_w",
        "outputId": "d10c0edf-1079-4a37-e8f7-711fbd623d4b",
        "colab": {
          "base_uri": "https://localhost:8080/"
        }
      },
      "execution_count": 9,
      "outputs": [
        {
          "output_type": "execute_result",
          "data": {
            "text/plain": [
              "2"
            ]
          },
          "metadata": {},
          "execution_count": 9
        }
      ]
    },
    {
      "cell_type": "markdown",
      "source": [
        "Ingat index dari List dimulai dari 0"
      ],
      "metadata": {
        "id": "Fr_hwiq0_NhJ"
      }
    },
    {
      "cell_type": "code",
      "source": [
        "len(y[0]) # panjang elemen pertaman di List"
      ],
      "metadata": {
        "id": "FoGJEjaK_gSl",
        "outputId": "16298644-b492-48c9-9610-507730dc8b1b",
        "colab": {
          "base_uri": "https://localhost:8080/"
        }
      },
      "execution_count": 7,
      "outputs": [
        {
          "output_type": "execute_result",
          "data": {
            "text/plain": [
              "3"
            ]
          },
          "metadata": {},
          "execution_count": 7
        }
      ]
    },
    {
      "cell_type": "markdown",
      "source": [
        "###Mengakses dan Menambah Element di List"
      ],
      "metadata": {
        "id": "QDvJshPOAD6y"
      }
    },
    {
      "cell_type": "code",
      "source": [
        "#buat List\n",
        "x=[1,2,3,4]\n",
        "print(x[3])"
      ],
      "metadata": {
        "id": "RF67JXoIAJ-s",
        "outputId": "9ca1e265-6050-474d-95c6-415cbe76530d",
        "colab": {
          "base_uri": "https://localhost:8080/"
        }
      },
      "execution_count": 12,
      "outputs": [
        {
          "output_type": "stream",
          "name": "stdout",
          "text": [
            "4\n"
          ]
        }
      ]
    },
    {
      "cell_type": "code",
      "source": [
        "#buat List\n",
        "y=[[1,2,3],[4,5,6]]\n",
        "print(y[1])"
      ],
      "metadata": {
        "id": "IKGNZbYPAaQz",
        "outputId": "f04e299a-7153-4a68-cf91-4157274b4b8e",
        "colab": {
          "base_uri": "https://localhost:8080/"
        }
      },
      "execution_count": 13,
      "outputs": [
        {
          "output_type": "stream",
          "name": "stdout",
          "text": [
            "[1, 2, 3]\n"
          ]
        }
      ]
    },
    {
      "cell_type": "code",
      "source": [
        "#buat List\n",
        "y=[[1,2,3],[4,5,6]]\n",
        "print(y[1][1]) # baris ke 1 dan kolom ke 1"
      ],
      "metadata": {
        "id": "M9hfaOo5AumZ",
        "outputId": "4af2c980-63d3-4bdb-9665-0ed6ee87fbf7",
        "colab": {
          "base_uri": "https://localhost:8080/"
        }
      },
      "execution_count": 16,
      "outputs": [
        {
          "output_type": "stream",
          "name": "stdout",
          "text": [
            "5\n"
          ]
        }
      ]
    },
    {
      "cell_type": "code",
      "source": [
        "#buat List\n",
        "y=[[1,2,3],[4,5,6]]\n",
        "print(y[0][1]) # baris ke 0 dan kolom ke 1"
      ],
      "metadata": {
        "id": "BdV-AYITBBZ4",
        "outputId": "9e39d7e9-bca9-4623-a288-e307624b8c69",
        "colab": {
          "base_uri": "https://localhost:8080/"
        }
      },
      "execution_count": 15,
      "outputs": [
        {
          "output_type": "stream",
          "name": "stdout",
          "text": [
            "2\n"
          ]
        }
      ]
    },
    {
      "cell_type": "code",
      "source": [
        "# menambah element\n",
        "x=[[1,2,3,4]]\n",
        "x.append(5)\n",
        "print(x)\n",
        "x.append([1,2])\n",
        "print(x)\n",
        "print(len(x))\n"
      ],
      "metadata": {
        "id": "8Y0j_HNxBaUZ",
        "outputId": "bd173194-e672-465a-cc55-0afe5aa121a9",
        "colab": {
          "base_uri": "https://localhost:8080/"
        }
      },
      "execution_count": 28,
      "outputs": [
        {
          "output_type": "stream",
          "name": "stdout",
          "text": [
            "[[1, 2, 3, 4], 5]\n",
            "[[1, 2, 3, 4], 5, [1, 2]]\n",
            "3\n"
          ]
        }
      ]
    },
    {
      "cell_type": "code",
      "source": [
        "x=[[1,2,3,4],[7,8]]\n",
        "x.append(5)\n",
        "print(x)\n",
        "x.append([1,2])\n",
        "print(x)\n",
        "print(len(x))\n",
        "print(x[3][0])"
      ],
      "metadata": {
        "id": "Tl8poOViCtBL",
        "outputId": "7584e8ab-b37e-4f0e-da0a-1a5b04c4d672",
        "colab": {
          "base_uri": "https://localhost:8080/"
        }
      },
      "execution_count": 32,
      "outputs": [
        {
          "output_type": "stream",
          "name": "stdout",
          "text": [
            "[[1, 2, 3, 4], [7, 8], 5]\n",
            "[[1, 2, 3, 4], [7, 8], 5, [1, 2]]\n",
            "4\n",
            "1\n"
          ]
        }
      ]
    },
    {
      "cell_type": "code",
      "source": [
        "print(x)"
      ],
      "metadata": {
        "id": "3nWd-hPwDJow",
        "outputId": "6b538aeb-db2b-4c58-cfd2-a299a3522baa",
        "colab": {
          "base_uri": "https://localhost:8080/"
        }
      },
      "execution_count": 33,
      "outputs": [
        {
          "output_type": "stream",
          "name": "stdout",
          "text": [
            "[[1, 2, 3, 4], [7, 8], 5, [1, 2]]\n"
          ]
        }
      ]
    },
    {
      "cell_type": "code",
      "source": [
        "x[2]=[10,11] # ubah nilai di index ke 2 dengan list [10,11]\n",
        "print(x)"
      ],
      "metadata": {
        "id": "KylBCK3VDNjw",
        "outputId": "06959fd7-4ae5-4712-84f7-44bf08cdc871",
        "colab": {
          "base_uri": "https://localhost:8080/"
        }
      },
      "execution_count": 35,
      "outputs": [
        {
          "output_type": "stream",
          "name": "stdout",
          "text": [
            "[[1, 2, 3, 4], [7, 8], [10, 11], [1, 2]]\n"
          ]
        }
      ]
    },
    {
      "cell_type": "code",
      "source": [
        "x[1][1]=6\n",
        "x[1][0]=5\n",
        "print(x)"
      ],
      "metadata": {
        "id": "ju3U14ZYDttQ",
        "outputId": "f5a04505-ad8b-4557-a71e-ce366227b1b5",
        "colab": {
          "base_uri": "https://localhost:8080/"
        }
      },
      "execution_count": 44,
      "outputs": [
        {
          "output_type": "stream",
          "name": "stdout",
          "text": [
            "[[1, 2, 3, 4], [5, 6], [10, 11], [1, 2]]\n"
          ]
        }
      ]
    },
    {
      "cell_type": "code",
      "source": [
        "x[1]=2\n",
        "print(x)"
      ],
      "metadata": {
        "id": "zQkp6pB5D53O",
        "outputId": "cea164db-5715-4ea2-eda9-e1100e8af879",
        "colab": {
          "base_uri": "https://localhost:8080/"
        }
      },
      "execution_count": 51,
      "outputs": [
        {
          "output_type": "stream",
          "name": "stdout",
          "text": [
            "[[1, 2, 3, 4], 2, [10, 11], [1, 2]]\n"
          ]
        }
      ]
    },
    {
      "cell_type": "markdown",
      "source": [
        "###Menghapus element di List"
      ],
      "metadata": {
        "id": "-TODg_N6EQ4V"
      }
    },
    {
      "cell_type": "code",
      "source": [
        "print(x)"
      ],
      "metadata": {
        "id": "vIRT5k6UEVL4",
        "outputId": "6120e0d1-4a2c-4e00-89f6-fa89bacbe64c",
        "colab": {
          "base_uri": "https://localhost:8080/"
        }
      },
      "execution_count": 52,
      "outputs": [
        {
          "output_type": "stream",
          "name": "stdout",
          "text": [
            "[[1, 2, 3, 4], 2, [10, 11], [1, 2]]\n"
          ]
        }
      ]
    },
    {
      "cell_type": "markdown",
      "source": [
        "Ada beberapa cara untuk menghapus element di List"
      ],
      "metadata": {
        "id": "1ApAKpB5Edib"
      }
    },
    {
      "cell_type": "code",
      "source": [
        "# pop () : menghapus index terakhir di list\n",
        "x.pop()\n",
        "print(x)"
      ],
      "metadata": {
        "id": "hqZD4RWlEjmz",
        "outputId": "ddc60d2d-5803-48c4-c015-b22dc95e0863",
        "colab": {
          "base_uri": "https://localhost:8080/"
        }
      },
      "execution_count": 53,
      "outputs": [
        {
          "output_type": "stream",
          "name": "stdout",
          "text": [
            "[[1, 2, 3, 4], 2, [10, 11]]\n"
          ]
        }
      ]
    },
    {
      "cell_type": "code",
      "source": [
        "x.insert(4,[1,2])\n",
        "print(x)"
      ],
      "metadata": {
        "id": "JTC8qTa6Ey3z",
        "outputId": "b8c20df1-3310-482d-8bb9-169fbae239ac",
        "colab": {
          "base_uri": "https://localhost:8080/"
        }
      },
      "execution_count": 55,
      "outputs": [
        {
          "output_type": "stream",
          "name": "stdout",
          "text": [
            "[[1, 2, 3, 4], 2, [10, 11], [1, 2]]\n"
          ]
        }
      ]
    },
    {
      "cell_type": "code",
      "source": [
        "x.insert(0,[[1, 2, 3, 4], 2, [10, 11]])\n",
        "print(x)"
      ],
      "metadata": {
        "id": "b5S9Y7DTF0qu",
        "outputId": "f7dcd0af-54e6-4842-e80d-57b059903b95",
        "colab": {
          "base_uri": "https://localhost:8080/"
        }
      },
      "execution_count": 62,
      "outputs": [
        {
          "output_type": "stream",
          "name": "stdout",
          "text": [
            "[[[1, 2, 3, 4], 2, [10, 11]], [[1, 2, 3, 4], 2, [10, 11]], [[1, 2, 3, 4], 2, [10, 11]], [1, 2]]\n"
          ]
        }
      ]
    },
    {
      "cell_type": "code",
      "source": [
        "print(x)"
      ],
      "metadata": {
        "id": "c7JqB3P4GINZ",
        "outputId": "b3b24c53-70a6-417c-8f9b-eac7dd123b25",
        "colab": {
          "base_uri": "https://localhost:8080/"
        }
      },
      "execution_count": 64,
      "outputs": [
        {
          "output_type": "stream",
          "name": "stdout",
          "text": [
            "[[[1, 2, 3, 4], 2, [10, 11]], [[1, 2, 3, 4], 2, [10, 11]], [1, 2]]\n"
          ]
        }
      ]
    },
    {
      "cell_type": "code",
      "source": [
        "x.pop(0)"
      ],
      "metadata": {
        "id": "YdekMJ88GWbV",
        "outputId": "fc33625b-0c8d-4f52-d865-b471be385a17",
        "colab": {
          "base_uri": "https://localhost:8080/"
        }
      },
      "execution_count": 65,
      "outputs": [
        {
          "output_type": "execute_result",
          "data": {
            "text/plain": [
              "[[1, 2, 3, 4], 2, [10, 11]]"
            ]
          },
          "metadata": {},
          "execution_count": 65
        }
      ]
    },
    {
      "cell_type": "code",
      "source": [
        "print(x)"
      ],
      "metadata": {
        "id": "8HewpBzOGZZB",
        "outputId": "c861c6f0-17ef-4176-e457-aa95fc8857fc",
        "colab": {
          "base_uri": "https://localhost:8080/"
        }
      },
      "execution_count": 66,
      "outputs": [
        {
          "output_type": "stream",
          "name": "stdout",
          "text": [
            "[[[1, 2, 3, 4], 2, [10, 11]], [1, 2]]\n"
          ]
        }
      ]
    },
    {
      "cell_type": "code",
      "source": [
        "x[1].pop(1)"
      ],
      "metadata": {
        "id": "2E0qabuhGcE9",
        "outputId": "6c9713a1-87ba-45cf-840d-2fd01db50691",
        "colab": {
          "base_uri": "https://localhost:8080/"
        }
      },
      "execution_count": 68,
      "outputs": [
        {
          "output_type": "execute_result",
          "data": {
            "text/plain": [
              "2"
            ]
          },
          "metadata": {},
          "execution_count": 68
        }
      ]
    },
    {
      "cell_type": "code",
      "source": [
        "print(x)"
      ],
      "metadata": {
        "id": "-wSrarE1GlbM",
        "outputId": "f365364d-bec6-4f42-a442-fb5a6e15fffa",
        "colab": {
          "base_uri": "https://localhost:8080/"
        }
      },
      "execution_count": 69,
      "outputs": [
        {
          "output_type": "stream",
          "name": "stdout",
          "text": [
            "[[[1, 2, 3, 4], 2, [10, 11]], [1]]\n"
          ]
        }
      ]
    },
    {
      "cell_type": "code",
      "source": [
        "x=[[1,2],5]\n",
        "print(x)"
      ],
      "metadata": {
        "id": "SK0Wv2ouGytD",
        "outputId": "368a6186-aa9a-47a3-9aba-2a40e4ba7b85",
        "colab": {
          "base_uri": "https://localhost:8080/"
        }
      },
      "execution_count": 84,
      "outputs": [
        {
          "output_type": "stream",
          "name": "stdout",
          "text": [
            "[[1, 2], 5]\n"
          ]
        }
      ]
    },
    {
      "cell_type": "code",
      "source": [
        "x.remove([1,2])\n",
        "print(x)"
      ],
      "metadata": {
        "id": "0Rz_LJ2eHGza",
        "outputId": "382abd39-f32c-4df5-c8f0-9142662c7a22",
        "colab": {
          "base_uri": "https://localhost:8080/"
        }
      },
      "execution_count": 85,
      "outputs": [
        {
          "output_type": "stream",
          "name": "stdout",
          "text": [
            "[5]\n"
          ]
        }
      ]
    },
    {
      "cell_type": "code",
      "source": [
        "x.remove(5)\n",
        "print(x)"
      ],
      "metadata": {
        "id": "CrFak5V-HKPu",
        "outputId": "fc3bbc1f-5542-4568-d553-c02f26ddaa30",
        "colab": {
          "base_uri": "https://localhost:8080/"
        }
      },
      "execution_count": 86,
      "outputs": [
        {
          "output_type": "stream",
          "name": "stdout",
          "text": [
            "[]\n"
          ]
        }
      ]
    },
    {
      "cell_type": "code",
      "source": [
        "type(x)"
      ],
      "metadata": {
        "id": "XKvxGDraH2kK",
        "outputId": "230efe74-afd4-48a5-e07c-59c12aa95345",
        "colab": {
          "base_uri": "https://localhost:8080/"
        }
      },
      "execution_count": 87,
      "outputs": [
        {
          "output_type": "execute_result",
          "data": {
            "text/plain": [
              "list"
            ]
          },
          "metadata": {},
          "execution_count": 87
        }
      ]
    },
    {
      "cell_type": "code",
      "source": [
        "x= [[1,2,3],[9,8]]\n",
        "print(x)"
      ],
      "metadata": {
        "id": "CWwj0aUUH5SX",
        "outputId": "8ec86557-e3e4-4a6e-fc0a-c7b050ef1b2b",
        "colab": {
          "base_uri": "https://localhost:8080/"
        }
      },
      "execution_count": 88,
      "outputs": [
        {
          "output_type": "stream",
          "name": "stdout",
          "text": [
            "[[1, 2, 3], [9, 8]]\n"
          ]
        }
      ]
    },
    {
      "cell_type": "code",
      "source": [
        "a = x.pop(1)\n",
        "print(a)"
      ],
      "metadata": {
        "id": "8B7XtyPLIFdG",
        "outputId": "5192eda2-7c13-44c5-c068-35f30fff86c8",
        "colab": {
          "base_uri": "https://localhost:8080/"
        }
      },
      "execution_count": 89,
      "outputs": [
        {
          "output_type": "stream",
          "name": "stdout",
          "text": [
            "[9, 8]\n"
          ]
        }
      ]
    },
    {
      "cell_type": "code",
      "source": [
        "print(x)"
      ],
      "metadata": {
        "id": "IkJOK95tIeKO",
        "outputId": "89194d7a-f71a-4fb8-b85c-de2dd9d33331",
        "colab": {
          "base_uri": "https://localhost:8080/"
        }
      },
      "execution_count": 90,
      "outputs": [
        {
          "output_type": "stream",
          "name": "stdout",
          "text": [
            "[[1, 2, 3]]\n"
          ]
        }
      ]
    },
    {
      "cell_type": "markdown",
      "source": [
        "Tambahan"
      ],
      "metadata": {
        "id": "-IK9EX8oIh8W"
      }
    },
    {
      "cell_type": "code",
      "source": [
        "mobil = ['toyota','honda','BMW','hyundai']\n",
        "print(mobil)"
      ],
      "metadata": {
        "id": "WYEAieJSIlj9",
        "outputId": "20ac7b77-22db-406b-c9e0-aaa4cd36c1ca",
        "colab": {
          "base_uri": "https://localhost:8080/"
        }
      },
      "execution_count": 91,
      "outputs": [
        {
          "output_type": "stream",
          "name": "stdout",
          "text": [
            "['toyota', 'honda', 'BMW', 'hyundai']\n"
          ]
        }
      ]
    },
    {
      "cell_type": "code",
      "source": [
        "type(mobil)"
      ],
      "metadata": {
        "id": "dzvVxe6oI_0T",
        "outputId": "47bc2843-f29f-4d85-ab6e-a2f19f234107",
        "colab": {
          "base_uri": "https://localhost:8080/"
        }
      },
      "execution_count": 92,
      "outputs": [
        {
          "output_type": "execute_result",
          "data": {
            "text/plain": [
              "list"
            ]
          },
          "metadata": {},
          "execution_count": 92
        }
      ]
    },
    {
      "cell_type": "code",
      "source": [
        "len(mobil)"
      ],
      "metadata": {
        "id": "3MsNzGJgJMLz",
        "outputId": "d4b757e5-c8d6-427f-cded-7ed506695d89",
        "colab": {
          "base_uri": "https://localhost:8080/"
        }
      },
      "execution_count": 93,
      "outputs": [
        {
          "output_type": "execute_result",
          "data": {
            "text/plain": [
              "4"
            ]
          },
          "metadata": {},
          "execution_count": 93
        }
      ]
    },
    {
      "cell_type": "code",
      "source": [
        "for i in mobil:\n",
        "  print(i)"
      ],
      "metadata": {
        "id": "CU-tPMyqJRe6",
        "outputId": "e8038832-78f0-4142-ca11-1a6a0bf28cea",
        "colab": {
          "base_uri": "https://localhost:8080/"
        }
      },
      "execution_count": 94,
      "outputs": [
        {
          "output_type": "stream",
          "name": "stdout",
          "text": [
            "toyota\n",
            "honda\n",
            "BMW\n",
            "hyundai\n"
          ]
        }
      ]
    },
    {
      "cell_type": "code",
      "source": [
        "for i in range(len(mobil)):\n",
        "  print([i])"
      ],
      "metadata": {
        "id": "rRKbAJY6JoeJ",
        "outputId": "0ef9c0c7-0a1a-4cf6-b339-70811a1716bd",
        "colab": {
          "base_uri": "https://localhost:8080/"
        }
      },
      "execution_count": 96,
      "outputs": [
        {
          "output_type": "stream",
          "name": "stdout",
          "text": [
            "[0]\n",
            "[1]\n",
            "[2]\n",
            "[3]\n"
          ]
        }
      ]
    },
    {
      "cell_type": "code",
      "source": [
        "for i in range(len(mobil)):\n",
        "  print(mobil[i])"
      ],
      "metadata": {
        "id": "SoplZ1fpJ5uo",
        "outputId": "3f4fc5f4-56a4-47cd-9e4c-467c26640cff",
        "colab": {
          "base_uri": "https://localhost:8080/"
        }
      },
      "execution_count": 97,
      "outputs": [
        {
          "output_type": "stream",
          "name": "stdout",
          "text": [
            "toyota\n",
            "honda\n",
            "BMW\n",
            "hyundai\n"
          ]
        }
      ]
    },
    {
      "cell_type": "markdown",
      "source": [
        "#Tuple"
      ],
      "metadata": {
        "id": "zFU2zaJ1Ka8m"
      }
    },
    {
      "cell_type": "code",
      "source": [
        "x=tuple()\n",
        "print(x)"
      ],
      "metadata": {
        "id": "t0W_6w5QKgfu",
        "outputId": "98ec852c-2b32-4599-e24f-3a534a823034",
        "colab": {
          "base_uri": "https://localhost:8080/"
        }
      },
      "execution_count": 4,
      "outputs": [
        {
          "output_type": "stream",
          "name": "stdout",
          "text": [
            "()\n"
          ]
        }
      ]
    },
    {
      "cell_type": "code",
      "source": [
        "type(x)"
      ],
      "metadata": {
        "id": "CP0BjogGKuu0",
        "outputId": "0672f9c2-b444-4506-dbfd-479bdaae1a2d",
        "colab": {
          "base_uri": "https://localhost:8080/"
        }
      },
      "execution_count": 5,
      "outputs": [
        {
          "output_type": "execute_result",
          "data": {
            "text/plain": [
              "tuple"
            ]
          },
          "metadata": {},
          "execution_count": 5
        }
      ]
    },
    {
      "cell_type": "code",
      "source": [],
      "metadata": {
        "id": "g2zbEsUsKx2F"
      },
      "execution_count": null,
      "outputs": []
    },
    {
      "cell_type": "code",
      "source": [
        "x = (1,2,3,4)\n",
        "print(type(x))"
      ],
      "metadata": {
        "id": "FUfHt6D0Kym0",
        "outputId": "59971c3b-3c94-4280-981c-0e147e161fdd",
        "colab": {
          "base_uri": "https://localhost:8080/"
        }
      },
      "execution_count": 7,
      "outputs": [
        {
          "output_type": "stream",
          "name": "stdout",
          "text": [
            "<class 'tuple'>\n"
          ]
        }
      ]
    },
    {
      "cell_type": "code",
      "source": [
        "x[3]"
      ],
      "metadata": {
        "id": "ns5uWaM4K_BD",
        "outputId": "726b0085-8440-4cf0-9597-105d002deec0",
        "colab": {
          "base_uri": "https://localhost:8080/"
        }
      },
      "execution_count": 8,
      "outputs": [
        {
          "output_type": "execute_result",
          "data": {
            "text/plain": [
              "4"
            ]
          },
          "metadata": {},
          "execution_count": 8
        }
      ]
    },
    {
      "cell_type": "code",
      "source": [
        "x[2]=6 # tuple tidak bisa di update\n",
        "print(x)"
      ],
      "metadata": {
        "id": "rQUPx4oKLHOC",
        "outputId": "2b63258d-e15c-4808-c440-51fcd37c4890",
        "colab": {
          "base_uri": "https://localhost:8080/",
          "height": 193
        }
      },
      "execution_count": 9,
      "outputs": [
        {
          "output_type": "error",
          "ename": "TypeError",
          "evalue": "ignored",
          "traceback": [
            "\u001b[0;31m---------------------------------------------------------------------------\u001b[0m",
            "\u001b[0;31mTypeError\u001b[0m                                 Traceback (most recent call last)",
            "\u001b[0;32m<ipython-input-9-41c3275c86d8>\u001b[0m in \u001b[0;36m<cell line: 1>\u001b[0;34m()\u001b[0m\n\u001b[0;32m----> 1\u001b[0;31m \u001b[0mx\u001b[0m\u001b[0;34m[\u001b[0m\u001b[0;36m2\u001b[0m\u001b[0;34m]\u001b[0m\u001b[0;34m=\u001b[0m\u001b[0;36m6\u001b[0m \u001b[0;31m# tuple tidak bisa di update\u001b[0m\u001b[0;34m\u001b[0m\u001b[0;34m\u001b[0m\u001b[0m\n\u001b[0m\u001b[1;32m      2\u001b[0m \u001b[0mprint\u001b[0m\u001b[0;34m(\u001b[0m\u001b[0mx\u001b[0m\u001b[0;34m)\u001b[0m\u001b[0;34m\u001b[0m\u001b[0;34m\u001b[0m\u001b[0m\n",
            "\u001b[0;31mTypeError\u001b[0m: 'tuple' object does not support item assignment"
          ]
        }
      ]
    },
    {
      "cell_type": "code",
      "source": [
        "x = (1,2,6,4)\n",
        "print(x)"
      ],
      "metadata": {
        "id": "EnWh79RpLRLr",
        "outputId": "287131c2-76aa-4401-9279-9a65b8f134ac",
        "colab": {
          "base_uri": "https://localhost:8080/"
        }
      },
      "execution_count": 10,
      "outputs": [
        {
          "output_type": "stream",
          "name": "stdout",
          "text": [
            "(1, 2, 6, 4)\n"
          ]
        }
      ]
    },
    {
      "cell_type": "code",
      "source": [
        "x.pop() # tuple tidak bisa di delete\n",
        "print(x)"
      ],
      "metadata": {
        "id": "8sQHhXnKLbm8",
        "outputId": "67ec7ad6-f2de-4fa5-cd3e-02c0c9d37ee8",
        "colab": {
          "base_uri": "https://localhost:8080/",
          "height": 193
        }
      },
      "execution_count": 11,
      "outputs": [
        {
          "output_type": "error",
          "ename": "AttributeError",
          "evalue": "ignored",
          "traceback": [
            "\u001b[0;31m---------------------------------------------------------------------------\u001b[0m",
            "\u001b[0;31mAttributeError\u001b[0m                            Traceback (most recent call last)",
            "\u001b[0;32m<ipython-input-11-f7b48d83ff4c>\u001b[0m in \u001b[0;36m<cell line: 1>\u001b[0;34m()\u001b[0m\n\u001b[0;32m----> 1\u001b[0;31m \u001b[0mx\u001b[0m\u001b[0;34m.\u001b[0m\u001b[0mpop\u001b[0m\u001b[0;34m(\u001b[0m\u001b[0;34m)\u001b[0m\u001b[0;34m\u001b[0m\u001b[0;34m\u001b[0m\u001b[0m\n\u001b[0m\u001b[1;32m      2\u001b[0m \u001b[0mprint\u001b[0m\u001b[0;34m(\u001b[0m\u001b[0mx\u001b[0m\u001b[0;34m)\u001b[0m\u001b[0;34m\u001b[0m\u001b[0;34m\u001b[0m\u001b[0m\n",
            "\u001b[0;31mAttributeError\u001b[0m: 'tuple' object has no attribute 'pop'"
          ]
        }
      ]
    },
    {
      "cell_type": "markdown",
      "source": [
        "#Dictionary"
      ],
      "metadata": {
        "id": "xO17o7clMU4I"
      }
    },
    {
      "cell_type": "code",
      "source": [
        "mobil = {0:'honda',1:'bmw'}\n",
        "print (mobil)"
      ],
      "metadata": {
        "id": "L8sYhA_JMXLv",
        "outputId": "108f0cec-84af-4701-ed69-64d9b60bb92c",
        "colab": {
          "base_uri": "https://localhost:8080/"
        }
      },
      "execution_count": 14,
      "outputs": [
        {
          "output_type": "stream",
          "name": "stdout",
          "text": [
            "{0: 'honda', 1: 'bmw'}\n"
          ]
        }
      ]
    },
    {
      "cell_type": "code",
      "source": [
        "#akses dic"
      ],
      "metadata": {
        "id": "0ZYnfXkYMpf3"
      },
      "execution_count": 15,
      "outputs": []
    },
    {
      "cell_type": "code",
      "source": [
        "print(mobil[0])"
      ],
      "metadata": {
        "id": "71jGohafMrZt",
        "outputId": "8c74d329-d691-42ec-edd9-22e3dd330f28",
        "colab": {
          "base_uri": "https://localhost:8080/"
        }
      },
      "execution_count": 16,
      "outputs": [
        {
          "output_type": "stream",
          "name": "stdout",
          "text": [
            "honda\n"
          ]
        }
      ]
    },
    {
      "cell_type": "code",
      "source": [
        "print(mobil[1])"
      ],
      "metadata": {
        "id": "dPDr05quMyqH",
        "outputId": "67303d84-fe84-46b5-828f-3a2433ef67ec",
        "colab": {
          "base_uri": "https://localhost:8080/"
        }
      },
      "execution_count": 17,
      "outputs": [
        {
          "output_type": "stream",
          "name": "stdout",
          "text": [
            "bmw\n"
          ]
        }
      ]
    },
    {
      "cell_type": "code",
      "source": [
        "print(mobil[2])"
      ],
      "metadata": {
        "id": "1MRStVCmM6Me",
        "outputId": "a53fb4e6-d56c-4bcb-e6c2-5659109bb144",
        "colab": {
          "base_uri": "https://localhost:8080/",
          "height": 175
        }
      },
      "execution_count": 18,
      "outputs": [
        {
          "output_type": "error",
          "ename": "KeyError",
          "evalue": "ignored",
          "traceback": [
            "\u001b[0;31m---------------------------------------------------------------------------\u001b[0m",
            "\u001b[0;31mKeyError\u001b[0m                                  Traceback (most recent call last)",
            "\u001b[0;32m<ipython-input-18-a598ca9f5d30>\u001b[0m in \u001b[0;36m<cell line: 1>\u001b[0;34m()\u001b[0m\n\u001b[0;32m----> 1\u001b[0;31m \u001b[0mprint\u001b[0m\u001b[0;34m(\u001b[0m\u001b[0mmobil\u001b[0m\u001b[0;34m[\u001b[0m\u001b[0;36m2\u001b[0m\u001b[0;34m]\u001b[0m\u001b[0;34m)\u001b[0m\u001b[0;34m\u001b[0m\u001b[0;34m\u001b[0m\u001b[0m\n\u001b[0m",
            "\u001b[0;31mKeyError\u001b[0m: 2"
          ]
        }
      ]
    },
    {
      "cell_type": "code",
      "source": [
        "mobil = { 'mobil_asia':['toyota','honda','daihatsu'],'mobil_eropa':['bmw','prosche','ferarri','audi']}\n",
        "print(mobil)"
      ],
      "metadata": {
        "id": "pGlZJG_bM93O",
        "outputId": "19ba7d94-ec07-4f69-e84c-c3ec0826c552",
        "colab": {
          "base_uri": "https://localhost:8080/"
        }
      },
      "execution_count": 25,
      "outputs": [
        {
          "output_type": "stream",
          "name": "stdout",
          "text": [
            "{'mobil_asia': ['toyota', 'honda', 'daihatsu'], 'mobil_eropa': ['bmw', 'prosche', 'ferarri', 'audi']}\n"
          ]
        }
      ]
    },
    {
      "cell_type": "code",
      "source": [
        "len(mobil['mobil_eropa'])"
      ],
      "metadata": {
        "id": "VgaUUpAYNhPB",
        "outputId": "3ad101a9-c983-4bf5-ffd0-7a22cadfb6de",
        "colab": {
          "base_uri": "https://localhost:8080/"
        }
      },
      "execution_count": 26,
      "outputs": [
        {
          "output_type": "execute_result",
          "data": {
            "text/plain": [
              "4"
            ]
          },
          "metadata": {},
          "execution_count": 26
        }
      ]
    },
    {
      "cell_type": "code",
      "source": [
        "for i in range (len(mobil['mobil_eropa']));\n",
        "  print(mobil[i])"
      ],
      "metadata": {
        "id": "RZfaIVpJONzR",
        "outputId": "ba512599-0d29-4c0e-95dc-1c081bcc91a5",
        "colab": {
          "base_uri": "https://localhost:8080/",
          "height": 140
        }
      },
      "execution_count": 30,
      "outputs": [
        {
          "output_type": "error",
          "ename": "SyntaxError",
          "evalue": "ignored",
          "traceback": [
            "\u001b[0;36m  File \u001b[0;32m\"<ipython-input-30-5ccb006191cd>\"\u001b[0;36m, line \u001b[0;32m1\u001b[0m\n\u001b[0;31m    for i in range (len(mobil['mobil_eropa']));\u001b[0m\n\u001b[0m                                              ^\u001b[0m\n\u001b[0;31mSyntaxError\u001b[0m\u001b[0;31m:\u001b[0m invalid syntax\n"
          ]
        }
      ]
    },
    {
      "cell_type": "code",
      "source": [],
      "metadata": {
        "id": "e31cB_DSOx9x"
      },
      "execution_count": null,
      "outputs": []
    }
  ],
  "metadata": {
    "colab": {
      "name": "Welcome To Colaboratory",
      "toc_visible": true,
      "provenance": [],
      "include_colab_link": true
    },
    "kernelspec": {
      "display_name": "Python 3",
      "name": "python3"
    }
  },
  "nbformat": 4,
  "nbformat_minor": 0
}